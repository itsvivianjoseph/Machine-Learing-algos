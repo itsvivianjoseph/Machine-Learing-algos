{
 "cells": [
  {
   "cell_type": "markdown",
   "metadata": {},
   "source": [
    "IMPORTING THE LIBRARIES"
   ]
  },
  {
   "cell_type": "code",
   "execution_count": 3,
   "metadata": {},
   "outputs": [],
   "source": [
    "import tensorflow as tf\n",
    "from keras.preprocessing.image import ImageDataGenerator\n",
    "import numpy as np\n",
    "from keras_preprocessing import image"
   ]
  },
  {
   "cell_type": "markdown",
   "metadata": {},
   "source": [
    "DATA PREPROCESSING"
   ]
  },
  {
   "cell_type": "code",
   "execution_count": 4,
   "metadata": {},
   "outputs": [
    {
     "name": "stdout",
     "output_type": "stream",
     "text": [
      "Found 8000 images belonging to 2 classes.\n",
      "Found 2000 images belonging to 2 classes.\n"
     ]
    }
   ],
   "source": [
    "#preprocessing the training dataset\n",
    "train_datagen = ImageDataGenerator(\n",
    "    rescale=1./255,\n",
    "    shear_range=0.2,\n",
    "    zoom_range=0.2,\n",
    "    horizontal_flip=True          \n",
    "    )\n",
    "training_set = train_datagen.flow_from_directory(\n",
    "    'C:/Users/ViVian/Desktop/VIVIAN/MLworks/CNN/training_set',\n",
    "    target_size=(64,64),\n",
    "    batch_size=32,\n",
    "    class_mode='binary'\n",
    "    )\n",
    "#preprocessing the test dataset\n",
    "test_datagen = ImageDataGenerator(rescale = 1./255)\n",
    "test_set = test_datagen.flow_from_directory(\n",
    "    'C:/Users/ViVian/Desktop/VIVIAN/MLworks/CNN/test_set',\n",
    "    target_size=(64,64),\n",
    "    batch_size=32,\n",
    "    class_mode='binary'\n",
    "    )"
   ]
  },
  {
   "cell_type": "markdown",
   "metadata": {},
   "source": [
    "BUILDING THE CNN"
   ]
  },
  {
   "cell_type": "code",
   "execution_count": 5,
   "metadata": {},
   "outputs": [],
   "source": [
    "#INITIALIZING THE CNN\n",
    "cnn = tf.keras.models.Sequential()\n",
    "# STEP-1 CONVOLUTION\n",
    "cnn.add(tf.keras.layers.Conv2D(filters=32 ,kernel_size=3, activation='relu', input_shape=[64,64,3]))\n",
    "#STEP-2 POOLING \n",
    "cnn.add(tf.keras.layers.MaxPool2D(pool_size=2, strides=2))\n",
    "#ADDING A SECOND CONVOLUTIONAL LAYER\n",
    "cnn.add(tf.keras.layers.Conv2D(filters=32 ,kernel_size=3, activation='relu'))\n",
    "cnn.add(tf.keras.layers.MaxPool2D(pool_size=2, strides=2))\n",
    "#STEP-3 FLATTENING\n",
    "cnn.add(tf.keras.layers.Flatten())\n",
    "#STEP-4 FULL CONNECTION\n",
    "cnn.add(tf.keras.layers.Dense(units=128,activation='relu'))\n",
    "#STEP-5 OUTPUT LAYER\n",
    "cnn.add(tf.keras.layers.Dense(units=1,activation='sigmoid'))"
   ]
  },
  {
   "cell_type": "markdown",
   "metadata": {},
   "source": [
    "TRAINING THE CNN"
   ]
  },
  {
   "cell_type": "code",
   "execution_count": 6,
   "metadata": {},
   "outputs": [
    {
     "name": "stdout",
     "output_type": "stream",
     "text": [
      "Epoch 1/25\n",
      "250/250 [==============================] - 85s 336ms/step - loss: 0.6877 - accuracy: 0.5383 - val_loss: 0.6544 - val_accuracy: 0.5980\n",
      "Epoch 2/25\n",
      "250/250 [==============================] - 36s 146ms/step - loss: 0.6475 - accuracy: 0.6285 - val_loss: 0.6045 - val_accuracy: 0.7000\n",
      "Epoch 3/25\n",
      "250/250 [==============================] - 54s 216ms/step - loss: 0.6039 - accuracy: 0.6744 - val_loss: 0.5827 - val_accuracy: 0.7030\n",
      "Epoch 4/25\n",
      "250/250 [==============================] - 64s 255ms/step - loss: 0.5780 - accuracy: 0.6951 - val_loss: 0.5634 - val_accuracy: 0.7215\n",
      "Epoch 5/25\n",
      "250/250 [==============================] - 49s 196ms/step - loss: 0.5417 - accuracy: 0.7221 - val_loss: 0.5367 - val_accuracy: 0.7520\n",
      "Epoch 6/25\n",
      "250/250 [==============================] - 49s 195ms/step - loss: 0.5157 - accuracy: 0.7396 - val_loss: 0.5157 - val_accuracy: 0.7605\n",
      "Epoch 7/25\n",
      "250/250 [==============================] - 49s 194ms/step - loss: 0.4867 - accuracy: 0.7611 - val_loss: 0.4941 - val_accuracy: 0.7680\n",
      "Epoch 8/25\n",
      "250/250 [==============================] - 46s 184ms/step - loss: 0.4677 - accuracy: 0.7763 - val_loss: 0.4907 - val_accuracy: 0.7725\n",
      "Epoch 9/25\n",
      "250/250 [==============================] - 48s 192ms/step - loss: 0.4431 - accuracy: 0.7966 - val_loss: 0.4670 - val_accuracy: 0.7950\n",
      "Epoch 10/25\n",
      "250/250 [==============================] - 49s 196ms/step - loss: 0.4297 - accuracy: 0.8021 - val_loss: 0.4638 - val_accuracy: 0.7805\n",
      "Epoch 11/25\n",
      "250/250 [==============================] - 49s 195ms/step - loss: 0.4124 - accuracy: 0.8049 - val_loss: 0.4525 - val_accuracy: 0.8015\n",
      "Epoch 12/25\n",
      "250/250 [==============================] - 174s 696ms/step - loss: 0.3957 - accuracy: 0.8244 - val_loss: 0.4557 - val_accuracy: 0.7945\n",
      "Epoch 13/25\n",
      "250/250 [==============================] - 73s 290ms/step - loss: 0.3768 - accuracy: 0.8345 - val_loss: 0.4576 - val_accuracy: 0.8050\n",
      "Epoch 14/25\n",
      "250/250 [==============================] - 46s 185ms/step - loss: 0.3625 - accuracy: 0.8363 - val_loss: 0.4942 - val_accuracy: 0.7835\n",
      "Epoch 15/25\n",
      "250/250 [==============================] - 47s 189ms/step - loss: 0.3523 - accuracy: 0.8411 - val_loss: 0.4580 - val_accuracy: 0.7960\n",
      "Epoch 16/25\n",
      "250/250 [==============================] - 52s 207ms/step - loss: 0.3250 - accuracy: 0.8577 - val_loss: 0.4876 - val_accuracy: 0.7875\n",
      "Epoch 17/25\n",
      "250/250 [==============================] - 59s 235ms/step - loss: 0.3179 - accuracy: 0.8622 - val_loss: 0.4871 - val_accuracy: 0.7905\n",
      "Epoch 18/25\n",
      "250/250 [==============================] - 53s 213ms/step - loss: 0.3033 - accuracy: 0.8724 - val_loss: 0.5151 - val_accuracy: 0.7840\n",
      "Epoch 19/25\n",
      "250/250 [==============================] - 52s 208ms/step - loss: 0.2840 - accuracy: 0.8789 - val_loss: 0.5277 - val_accuracy: 0.7835\n",
      "Epoch 20/25\n",
      "250/250 [==============================] - 51s 205ms/step - loss: 0.2652 - accuracy: 0.8946 - val_loss: 0.4983 - val_accuracy: 0.8010\n",
      "Epoch 21/25\n",
      "250/250 [==============================] - 54s 214ms/step - loss: 0.2538 - accuracy: 0.8946 - val_loss: 0.5361 - val_accuracy: 0.8000\n",
      "Epoch 22/25\n",
      "250/250 [==============================] - 53s 211ms/step - loss: 0.2421 - accuracy: 0.8972 - val_loss: 0.5815 - val_accuracy: 0.7890\n",
      "Epoch 23/25\n",
      "250/250 [==============================] - 53s 214ms/step - loss: 0.2350 - accuracy: 0.9025 - val_loss: 0.5033 - val_accuracy: 0.8035\n",
      "Epoch 24/25\n",
      "250/250 [==============================] - 51s 202ms/step - loss: 0.2197 - accuracy: 0.9119 - val_loss: 0.5515 - val_accuracy: 0.7995\n",
      "Epoch 25/25\n",
      "250/250 [==============================] - 49s 198ms/step - loss: 0.2044 - accuracy: 0.9149 - val_loss: 0.6292 - val_accuracy: 0.7760\n",
      "1/1 [==============================] - 0s 248ms/step\n",
      "dog\n"
     ]
    }
   ],
   "source": [
    "#COMPILING THE CNN\n",
    "cnn.compile(optimizer='adam',loss='binary_crossentropy',metrics=['accuracy'])\n",
    "#TRAINING THE CNN ON THE TRAINING SET AND EVALUATING IT ON THE TEST SET\n",
    "cnn.fit(x=training_set , validation_data=test_set ,epochs=25)\n",
    "#EVALUATION FOR A SINGLE PREDICITION\n",
    "test_image = image.load_img('C:/Users/ViVian/Desktop/VIVIAN/MLworks/CNN/single_prediction/cat_or_dog_1.jpg', target_size=(64,64))\n",
    "test_image = image.img_to_array(test_image)\n",
    "test_image = np.expand_dims(test_image,axis=0)\n",
    "result = cnn.predict(test_image)\n",
    "training_set.class_indices\n",
    "if result[0][0]==1:\n",
    "    prediction = 'dog'\n",
    "else:\n",
    "    prediction = 'cat'\n",
    "\n",
    "print(prediction)"
   ]
  }
 ],
 "metadata": {
  "kernelspec": {
   "display_name": "Python 3.9.2 64-bit",
   "language": "python",
   "name": "python3"
  },
  "language_info": {
   "codemirror_mode": {
    "name": "ipython",
    "version": 3
   },
   "file_extension": ".py",
   "mimetype": "text/x-python",
   "name": "python",
   "nbconvert_exporter": "python",
   "pygments_lexer": "ipython3",
   "version": "3.9.2"
  },
  "orig_nbformat": 4,
  "vscode": {
   "interpreter": {
    "hash": "87488a3ddcf39c9e8c6e0d8e50b3e80f04687ccd564de35bbcf56400a332744a"
   }
  }
 },
 "nbformat": 4,
 "nbformat_minor": 2
}
